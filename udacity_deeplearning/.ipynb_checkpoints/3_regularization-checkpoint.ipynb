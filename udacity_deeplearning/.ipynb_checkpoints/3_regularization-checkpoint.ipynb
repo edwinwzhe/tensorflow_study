{
 "cells": [
  {
   "cell_type": "markdown",
   "metadata": {
    "colab_type": "text",
    "deletable": true,
    "editable": true,
    "id": "kR-4eNdK6lYS"
   },
   "source": [
    "Deep Learning\n",
    "=============\n",
    "\n",
    "Assignment 3\n",
    "------------\n",
    "\n",
    "Previously in `2_fullyconnected.ipynb`, you trained a logistic regression and a neural network model.\n",
    "\n",
    "The goal of this assignment is to explore regularization techniques."
   ]
  },
  {
   "cell_type": "code",
   "execution_count": 1,
   "metadata": {
    "cellView": "both",
    "colab": {
     "autoexec": {
      "startup": false,
      "wait_interval": 0
     }
    },
    "colab_type": "code",
    "collapsed": true,
    "deletable": true,
    "editable": true,
    "id": "JLpLa8Jt7Vu4"
   },
   "outputs": [],
   "source": [
    "# These are all the modules we'll be using later. Make sure you can import them\n",
    "# before proceeding further.\n",
    "from __future__ import print_function\n",
    "import numpy as np\n",
    "import tensorflow as tf\n",
    "from six.moves import cPickle as pickle"
   ]
  },
  {
   "cell_type": "markdown",
   "metadata": {
    "colab_type": "text",
    "deletable": true,
    "editable": true,
    "id": "1HrCK6e17WzV"
   },
   "source": [
    "First reload the data we generated in `1_notmnist.ipynb`."
   ]
  },
  {
   "cell_type": "code",
   "execution_count": 2,
   "metadata": {
    "cellView": "both",
    "colab": {
     "autoexec": {
      "startup": false,
      "wait_interval": 0
     },
     "output_extras": [
      {
       "item_id": 1
      }
     ]
    },
    "colab_type": "code",
    "collapsed": false,
    "deletable": true,
    "editable": true,
    "executionInfo": {
     "elapsed": 11777,
     "status": "ok",
     "timestamp": 1449849322348,
     "user": {
      "color": "",
      "displayName": "",
      "isAnonymous": false,
      "isMe": true,
      "permissionId": "",
      "photoUrl": "",
      "sessionId": "0",
      "userId": ""
     },
     "user_tz": 480
    },
    "id": "y3-cj1bpmuxc",
    "outputId": "e03576f1-ebbe-4838-c388-f1777bcc9873"
   },
   "outputs": [
    {
     "name": "stdout",
     "output_type": "stream",
     "text": [
      "Training set (200000, 28, 28) (200000,)\n",
      "Validation set (10000, 28, 28) (10000,)\n",
      "Test set (10000, 28, 28) (10000,)\n"
     ]
    }
   ],
   "source": [
    "pickle_file = 'notMNIST.pickle'\n",
    "\n",
    "with open(pickle_file, 'rb') as f:\n",
    "  save = pickle.load(f)\n",
    "  train_dataset = save['train_dataset']\n",
    "  train_labels = save['train_labels']\n",
    "  valid_dataset = save['valid_dataset']\n",
    "  valid_labels = save['valid_labels']\n",
    "  test_dataset = save['test_dataset']\n",
    "  test_labels = save['test_labels']\n",
    "  del save  # hint to help gc free up memory\n",
    "  print('Training set', train_dataset.shape, train_labels.shape)\n",
    "  print('Validation set', valid_dataset.shape, valid_labels.shape)\n",
    "  print('Test set', test_dataset.shape, test_labels.shape)"
   ]
  },
  {
   "cell_type": "markdown",
   "metadata": {
    "colab_type": "text",
    "deletable": true,
    "editable": true,
    "id": "L7aHrm6nGDMB"
   },
   "source": [
    "Reformat into a shape that's more adapted to the models we're going to train:\n",
    "- data as a flat matrix,\n",
    "- labels as float 1-hot encodings."
   ]
  },
  {
   "cell_type": "code",
   "execution_count": 3,
   "metadata": {
    "cellView": "both",
    "colab": {
     "autoexec": {
      "startup": false,
      "wait_interval": 0
     },
     "output_extras": [
      {
       "item_id": 1
      }
     ]
    },
    "colab_type": "code",
    "collapsed": false,
    "deletable": true,
    "editable": true,
    "executionInfo": {
     "elapsed": 11728,
     "status": "ok",
     "timestamp": 1449849322356,
     "user": {
      "color": "",
      "displayName": "",
      "isAnonymous": false,
      "isMe": true,
      "permissionId": "",
      "photoUrl": "",
      "sessionId": "0",
      "userId": ""
     },
     "user_tz": 480
    },
    "id": "IRSyYiIIGIzS",
    "outputId": "3f8996ee-3574-4f44-c953-5c8a04636582"
   },
   "outputs": [
    {
     "name": "stdout",
     "output_type": "stream",
     "text": [
      "Training set (200000, 784) (200000, 10)\n",
      "Validation set (10000, 784) (10000, 10)\n",
      "Test set (10000, 784) (10000, 10)\n"
     ]
    }
   ],
   "source": [
    "image_size = 28\n",
    "num_labels = 10\n",
    "\n",
    "def reformat(dataset, labels):\n",
    "  dataset = dataset.reshape((-1, image_size * image_size)).astype(np.float32)\n",
    "  # Map 1 to [0.0, 1.0, 0.0 ...], 2 to [0.0, 0.0, 1.0 ...]\n",
    "  labels = (np.arange(num_labels) == labels[:,None]).astype(np.float32)\n",
    "  return dataset, labels\n",
    "train_dataset, train_labels = reformat(train_dataset, train_labels)\n",
    "valid_dataset, valid_labels = reformat(valid_dataset, valid_labels)\n",
    "test_dataset, test_labels = reformat(test_dataset, test_labels)\n",
    "print('Training set', train_dataset.shape, train_labels.shape)\n",
    "print('Validation set', valid_dataset.shape, valid_labels.shape)\n",
    "print('Test set', test_dataset.shape, test_labels.shape)"
   ]
  },
  {
   "cell_type": "code",
   "execution_count": 4,
   "metadata": {
    "cellView": "both",
    "colab": {
     "autoexec": {
      "startup": false,
      "wait_interval": 0
     }
    },
    "colab_type": "code",
    "collapsed": true,
    "deletable": true,
    "editable": true,
    "id": "RajPLaL_ZW6w"
   },
   "outputs": [],
   "source": [
    "def accuracy(predictions, labels):\n",
    "  return (100.0 * np.sum(np.argmax(predictions, 1) == np.argmax(labels, 1))\n",
    "          / predictions.shape[0])"
   ]
  },
  {
   "cell_type": "markdown",
   "metadata": {
    "colab_type": "text",
    "deletable": true,
    "editable": true,
    "id": "sgLbUAQ1CW-1"
   },
   "source": [
    "---\n",
    "Problem 1\n",
    "---------\n",
    "\n",
    "Introduce and tune L2 regularization for both logistic and neural network models. Remember that L2 amounts to adding a penalty on the norm of the weights to the loss. In TensorFlow, you can compute the L2 loss for a tensor `t` using `nn.l2_loss(t)`. The right amount of regularization should improve your validation / test accuracy.\n",
    "\n",
    "---"
   ]
  },
  {
   "cell_type": "markdown",
   "metadata": {},
   "source": [
    "### Apply L2 regularization to Logistic Model"
   ]
  },
  {
   "cell_type": "code",
   "execution_count": 26,
   "metadata": {
    "collapsed": false
   },
   "outputs": [],
   "source": [
    "batch_size = 256\n",
    "\n",
    "graph = tf.Graph()\n",
    "with graph.as_default():\n",
    "\n",
    "  # Input data. For the training data, we use a placeholder that will be fed\n",
    "  # at run time with a training minibatch.\n",
    "\n",
    "  # Instead of these:\n",
    "  # train_subset = 10000\n",
    "  # tf_train_dataset = tf.constant(train_dataset[:train_subset, :])\n",
    "  # tf_train_labels = tf.constant(train_labels[:train_subset])\n",
    "    \n",
    "  # Do this:\n",
    "  tf_train_dataset = tf.placeholder(tf.float32, shape=(batch_size, image_size * image_size))\n",
    "  tf_train_labels = tf.placeholder(tf.float32, shape=(batch_size, num_labels))\n",
    "\n",
    "  # No change for the rest of the code\n",
    "  tf_valid_dataset = tf.constant(valid_dataset)\n",
    "  tf_test_dataset = tf.constant(test_dataset)\n",
    "  \n",
    "  # Variables.\n",
    "  weights = tf.Variable(tf.truncated_normal([image_size * image_size, num_labels]))\n",
    "  biases = tf.Variable(tf.zeros([num_labels]))\n",
    "  \n",
    "  # Add Constant for L2 Loss\n",
    "  beta = tf.constant(0.001)\n",
    "\n",
    "  # Training computation.\n",
    "  logits = tf.matmul(tf_train_dataset, weights) + biases\n",
    "  loss = tf.reduce_mean(\n",
    "    tf.nn.softmax_cross_entropy_with_logits(labels=tf_train_labels, logits=logits)) + \\\n",
    "    beta * tf.nn.l2_loss(weights)\n",
    "  \n",
    "  # Optimizer. \n",
    "  optimizer = tf.train.GradientDescentOptimizer(0.5).minimize(loss)\n",
    "  \n",
    "  # Predictions for the training, validation, and test data.\n",
    "  train_prediction = tf.nn.softmax(logits)\n",
    "  valid_prediction = tf.nn.softmax(\n",
    "    tf.matmul(tf_valid_dataset, weights) + biases)\n",
    "  test_prediction = tf.nn.softmax(tf.matmul(tf_test_dataset, weights) + biases)"
   ]
  },
  {
   "cell_type": "code",
   "execution_count": 27,
   "metadata": {
    "collapsed": false
   },
   "outputs": [
    {
     "name": "stdout",
     "output_type": "stream",
     "text": [
      "Initialized\n",
      "Minibatch loss at step 0: 20.174881\n",
      "Minibatch accuracy: 9.4%\n",
      "Validation accuracy: 11.4%\n",
      "Minibatch loss at step 1000: 1.554554\n",
      "Minibatch accuracy: 83.6%\n",
      "Validation accuracy: 79.1%\n",
      "Minibatch loss at step 2000: 0.947201\n",
      "Minibatch accuracy: 79.7%\n",
      "Validation accuracy: 80.4%\n",
      "Minibatch loss at step 3000: 0.724761\n",
      "Minibatch accuracy: 82.8%\n",
      "Validation accuracy: 83.0%\n",
      "Minibatch loss at step 4000: 0.650631\n",
      "Minibatch accuracy: 83.2%\n",
      "Validation accuracy: 83.2%\n",
      "Minibatch loss at step 5000: 0.664368\n",
      "Minibatch accuracy: 82.4%\n",
      "Validation accuracy: 82.3%\n",
      "Test accuracy: 88.9%\n"
     ]
    }
   ],
   "source": [
    "num_steps = 5001\n",
    "\n",
    "with tf.Session(graph=graph) as session:\n",
    "  tf.global_variables_initializer().run()\n",
    "\n",
    "  print(\"Initialized\")\n",
    "  for step in range(num_steps):\n",
    "    # Pick an offset within the training data, which has been randomized.\n",
    "    # Note: we could use better randomization across epochs.\n",
    "    offset = (step * batch_size) % (train_labels.shape[0] - batch_size)\n",
    "    \n",
    "    # Generate a minibatch.\n",
    "    batch_data = train_dataset[offset:(offset + batch_size), :]\n",
    "    batch_labels = train_labels[offset:(offset + batch_size), :]\n",
    "    \n",
    "    # Prepare a dictionary telling the session where to feed the minibatch.\n",
    "    # The key of the dictionary is the placeholder node of the graph to be fed,\n",
    "    # and the value is the numpy array to feed to it.\n",
    "    feed_dict = {tf_train_dataset : batch_data, tf_train_labels : batch_labels}\n",
    "    _, l, predictions = session.run([optimizer, loss, train_prediction], feed_dict=feed_dict)\n",
    "    \n",
    "    if (step % 1000 == 0):\n",
    "      print(\"Minibatch loss at step %d: %f\" % (step, l))\n",
    "      print(\"Minibatch accuracy: %.1f%%\" % accuracy(predictions, batch_labels))\n",
    "      print(\"Validation accuracy: %.1f%%\" % accuracy(valid_prediction.eval(), valid_labels))\n",
    "    \n",
    "  print(\"Test accuracy: %.1f%%\" % accuracy(test_prediction.eval(), test_labels))"
   ]
  },
  {
   "cell_type": "markdown",
   "metadata": {},
   "source": [
    "***Edwin Conclusion: Above result shows performance increase significantly (~ 3%) only adding regularization.***"
   ]
  },
  {
   "cell_type": "markdown",
   "metadata": {},
   "source": [
    "### Apply L2 regularization to NN Model"
   ]
  },
  {
   "cell_type": "code",
   "execution_count": 29,
   "metadata": {
    "collapsed": false
   },
   "outputs": [],
   "source": [
    "batch_size = 256\n",
    "\n",
    "graph = tf.Graph()\n",
    "with graph.as_default():\n",
    "\n",
    "  # Input data. For the training data, we use a placeholder that will be fed\n",
    "  # at run time with a training minibatch.\n",
    "  tf_train_dataset = tf.placeholder(tf.float32, shape=(batch_size, image_size * image_size), name='train_X')\n",
    "  tf_train_labels = tf.placeholder(tf.float32, shape=(batch_size, num_labels), name='train_y')\n",
    "\n",
    "  # No change for the rest of the code\n",
    "  tf_valid_dataset = tf.constant(valid_dataset, name='valid_X')\n",
    "  tf_test_dataset = tf.constant(test_dataset, name='valid_y')\n",
    "  \n",
    "  # Variables.\n",
    "  # Fully Connected Hidden Layer\n",
    "  hidden_nodes = 1024\n",
    "  weights_1 = tf.Variable(tf.truncated_normal([image_size * image_size, hidden_nodes]), name='weights_1')\n",
    "  biases_1 = tf.Variable(tf.zeros([hidden_nodes]), name='biases_1')\n",
    "    \n",
    "  # Fully Connected Output Layer\n",
    "  weights_2 = tf.Variable(tf.truncated_normal([hidden_nodes, num_labels]), name='weights_2')\n",
    "  biases_2 = tf.Variable(tf.zeros([num_labels]), name='biases_2')\n",
    "  \n",
    "  # Training computation.\n",
    "  # Logits of hidden layer\n",
    "  logits_1 = tf.matmul(tf_train_dataset, weights_1) + biases_1\n",
    "  # Apply Relu as activation\n",
    "  logits_1 = tf.nn.relu(logits_1)\n",
    "    \n",
    "  # Logits of output layer\n",
    "  logits_2 = tf.matmul(logits_1, weights_2) + biases_2 \n",
    "    \n",
    "  # Beta for L2 LOST\n",
    "  beta = tf.constant(0.001)\n",
    "\n",
    "  # Loss + L2 LOST\n",
    "  loss = tf.reduce_mean(tf.nn.softmax_cross_entropy_with_logits(labels=tf_train_labels, logits=logits_2)) + \\\n",
    "            beta * tf.nn.l2_loss(tf.matmul(weights_1, weights_2))\n",
    "  \n",
    "  # Optimizer. \n",
    "  #optimizer = tf.train.GradientDescentOptimizer(0.5).minimize(loss)\n",
    "  optimizer = tf.train.AdamOptimizer(1e-3).minimize(loss)\n",
    "  \n",
    "  # Predictions for the training, validation, and test data.\n",
    "  train_prediction = tf.nn.softmax(logits_2)\n",
    "    \n",
    "  valid_logits_1 = tf.matmul(tf_valid_dataset, weights_1) + biases_1\n",
    "  valid_logits_1 = tf.nn.relu(valid_logits_1)\n",
    "  valid_prediction = tf.nn.softmax(tf.matmul(valid_logits_1, weights_2) + biases_2)\n",
    "    \n",
    "  test_logits_1 =  tf.matmul(tf_test_dataset, weights_1) + biases_1\n",
    "  test_logits_1 = tf.nn.relu(test_logits_1)\n",
    "  test_prediction = tf.nn.softmax(tf.matmul(test_logits_1, weights_2) + biases_2)"
   ]
  },
  {
   "cell_type": "code",
   "execution_count": 30,
   "metadata": {
    "collapsed": false
   },
   "outputs": [
    {
     "name": "stdout",
     "output_type": "stream",
     "text": [
      "Initialized\n",
      "Minibatch loss at step 0: 2763.294434\n",
      "Minibatch accuracy: 5.5%\n",
      "Validation accuracy: 7.2%\n",
      "Minibatch loss at step 1000: 16.359257\n",
      "Minibatch accuracy: 82.8%\n",
      "Validation accuracy: 78.8%\n",
      "Minibatch loss at step 2000: 11.511001\n",
      "Minibatch accuracy: 81.2%\n",
      "Validation accuracy: 81.7%\n",
      "Minibatch loss at step 3000: 9.950687\n",
      "Minibatch accuracy: 84.0%\n",
      "Validation accuracy: 82.5%\n",
      "Minibatch loss at step 4000: 8.031029\n",
      "Minibatch accuracy: 86.3%\n",
      "Validation accuracy: 83.2%\n",
      "Minibatch loss at step 5000: 5.046747\n",
      "Minibatch accuracy: 88.3%\n",
      "Validation accuracy: 83.9%\n",
      "Minibatch loss at step 6000: 8.378282\n",
      "Minibatch accuracy: 86.7%\n",
      "Validation accuracy: 84.0%\n",
      "Test accuracy: 90.4%\n"
     ]
    }
   ],
   "source": [
    "num_steps = 6001\n",
    "\n",
    "with tf.Session(graph=graph) as session:\n",
    "  tf.global_variables_initializer().run()\n",
    "\n",
    "  print(\"Initialized\")\n",
    "  for step in range(num_steps):\n",
    "    # Pick an offset within the training data, which has been randomized.\n",
    "    # Note: we could use better randomization across epochs.\n",
    "    offset = (step * batch_size) % (train_labels.shape[0] - batch_size)\n",
    "    \n",
    "    # Generate a minibatch.\n",
    "    batch_data = train_dataset[offset:(offset + batch_size), :]\n",
    "    batch_labels = train_labels[offset:(offset + batch_size), :]\n",
    "    \n",
    "    # Prepare a dictionary telling the session where to feed the minibatch.\n",
    "    # The key of the dictionary is the placeholder node of the graph to be fed,\n",
    "    # and the value is the numpy array to feed to it.\n",
    "    feed_dict = {tf_train_dataset : batch_data, tf_train_labels : batch_labels}\n",
    "    _, l, predictions = session.run([optimizer, loss, train_prediction], feed_dict=feed_dict)\n",
    "    \n",
    "    if (step % 1000 == 0):\n",
    "      print(\"Minibatch loss at step %d: %f\" % (step, l))\n",
    "      print(\"Minibatch accuracy: %.1f%%\" % accuracy(predictions, batch_labels))\n",
    "      print(\"Validation accuracy: %.1f%%\" % accuracy(valid_prediction.eval(), valid_labels))\n",
    "    \n",
    "  print(\"Test accuracy: %.1f%%\" % accuracy(test_prediction.eval(), test_labels))"
   ]
  },
  {
   "cell_type": "markdown",
   "metadata": {},
   "source": [
    "***Edwin Conclusion: Above result also shows performance increase significantly (~ 3%) only adding regularization term.***"
   ]
  },
  {
   "cell_type": "markdown",
   "metadata": {
    "colab_type": "text",
    "deletable": true,
    "editable": true,
    "id": "na8xX2yHZzNF"
   },
   "source": [
    "---\n",
    "Problem 2\n",
    "---------\n",
    "Let's demonstrate an extreme case of overfitting. Restrict your training data to just a few batches. What happens?\n",
    "\n",
    "---"
   ]
  },
  {
   "cell_type": "code",
   "execution_count": 49,
   "metadata": {
    "collapsed": true
   },
   "outputs": [],
   "source": [
    "batch_size = 256\n",
    "\n",
    "graph = tf.Graph()\n",
    "with graph.as_default():\n",
    "\n",
    "  # Input data. For the training data, we use a placeholder that will be fed\n",
    "  # at run time with a training minibatch.\n",
    "  tf_train_dataset = tf.placeholder(tf.float32, shape=(batch_size, image_size * image_size), name='train_X')\n",
    "  tf_train_labels = tf.placeholder(tf.float32, shape=(batch_size, num_labels), name='train_y')\n",
    "\n",
    "  # No change for the rest of the code\n",
    "  tf_valid_dataset = tf.constant(valid_dataset, name='valid_X')\n",
    "  tf_test_dataset = tf.constant(test_dataset, name='valid_y')\n",
    "  \n",
    "  # Variables.\n",
    "  # Fully Connected Hidden Layer\n",
    "  hidden_nodes = 1024\n",
    "  weights_1 = tf.Variable(tf.truncated_normal([image_size * image_size, hidden_nodes]), name='weights_1')\n",
    "  biases_1 = tf.Variable(tf.zeros([hidden_nodes]), name='biases_1')\n",
    "    \n",
    "  # Fully Connected Output Layer\n",
    "  weights_2 = tf.Variable(tf.truncated_normal([hidden_nodes, num_labels]), name='weights_2')\n",
    "  biases_2 = tf.Variable(tf.zeros([num_labels]), name='biases_2')\n",
    "  \n",
    "  # Training computation.\n",
    "  # Logits of hidden layer\n",
    "  logits_1 = tf.matmul(tf_train_dataset, weights_1) + biases_1\n",
    "  # Apply Relu as activation\n",
    "  logits_1 = tf.nn.relu(logits_1)\n",
    "    \n",
    "  # Logits of output layer\n",
    "  logits_2 = tf.matmul(logits_1, weights_2) + biases_2 \n",
    "    \n",
    "  # Beta for L2 LOST\n",
    "  beta = tf.constant(0.001)\n",
    "\n",
    "  # Loss + L2 LOST\n",
    "  loss = tf.reduce_mean(tf.nn.softmax_cross_entropy_with_logits(labels=tf_train_labels, logits=logits_2)) + \\\n",
    "            beta * tf.nn.l2_loss(tf.matmul(weights_1, weights_2))\n",
    "  \n",
    "  # Optimizer. \n",
    "  #optimizer = tf.train.GradientDescentOptimizer(0.5).minimize(loss)\n",
    "  optimizer = tf.train.AdamOptimizer(1e-3).minimize(loss)\n",
    "  \n",
    "  # Predictions for the training, validation, and test data.\n",
    "  train_prediction = tf.nn.softmax(logits_2)\n",
    "    \n",
    "  valid_logits_1 = tf.matmul(tf_valid_dataset, weights_1) + biases_1\n",
    "  valid_logits_1 = tf.nn.relu(valid_logits_1)\n",
    "  valid_prediction = tf.nn.softmax(tf.matmul(valid_logits_1, weights_2) + biases_2)\n",
    "    \n",
    "  test_logits_1 =  tf.matmul(tf_test_dataset, weights_1) + biases_1\n",
    "  test_logits_1 = tf.nn.relu(test_logits_1)\n",
    "  test_prediction = tf.nn.softmax(tf.matmul(test_logits_1, weights_2) + biases_2)"
   ]
  },
  {
   "cell_type": "code",
   "execution_count": 50,
   "metadata": {
    "collapsed": false
   },
   "outputs": [
    {
     "name": "stdout",
     "output_type": "stream",
     "text": [
      "Initialized\n",
      "Minibatch loss at step 0: 2741.530273\n",
      "Minibatch accuracy: 12.1%\n",
      "Validation accuracy: 12.0%\n",
      "Minibatch loss at step 1000: 0.000051\n",
      "Minibatch accuracy: 100.0%\n",
      "Validation accuracy: 30.7%\n",
      "Minibatch loss at step 2000: 0.000010\n",
      "Minibatch accuracy: 100.0%\n",
      "Validation accuracy: 30.9%\n",
      "Minibatch loss at step 3000: 0.000004\n",
      "Minibatch accuracy: 100.0%\n",
      "Validation accuracy: 31.1%\n",
      "Minibatch loss at step 4000: 0.000002\n",
      "Minibatch accuracy: 100.0%\n",
      "Validation accuracy: 31.2%\n",
      "Minibatch loss at step 5000: 0.000001\n",
      "Minibatch accuracy: 100.0%\n",
      "Validation accuracy: 31.3%\n",
      "Minibatch loss at step 6000: 0.000001\n",
      "Minibatch accuracy: 100.0%\n",
      "Validation accuracy: 31.4%\n",
      "Test accuracy: 34.3%\n"
     ]
    }
   ],
   "source": [
    "num_steps = 6001\n",
    "\n",
    "with tf.Session(graph=graph) as session:\n",
    "  tf.global_variables_initializer().run()\n",
    "\n",
    "  print(\"Initialized\")\n",
    "  for step in range(num_steps):\n",
    "    # Pick an offset within the training data, which has been randomized.\n",
    "    # Note: we could use better randomization across epochs.\n",
    "    offset = (step * batch_size) % (train_labels.shape[0] - batch_size)\n",
    "    \n",
    "    ### RESTRICT TO THE SAME OFFSET\n",
    "    offset = 0\n",
    "    \n",
    "    # Generate a minibatch.\n",
    "    batch_data = train_dataset[offset:(offset + batch_size), :]\n",
    "    batch_labels = train_labels[offset:(offset + batch_size), :]\n",
    "    \n",
    "    # Prepare a dictionary telling the session where to feed the minibatch.\n",
    "    # The key of the dictionary is the placeholder node of the graph to be fed,\n",
    "    # and the value is the numpy array to feed to it.\n",
    "    feed_dict = {tf_train_dataset : batch_data, tf_train_labels : batch_labels}\n",
    "    _, l, predictions = session.run([optimizer, loss, train_prediction], feed_dict=feed_dict)\n",
    "    \n",
    "    if (step % 1000 == 0):\n",
    "      print(\"Minibatch loss at step %d: %f\" % (step, l))\n",
    "      print(\"Minibatch accuracy: %.1f%%\" % accuracy(predictions, batch_labels))\n",
    "      print(\"Validation accuracy: %.1f%%\" % accuracy(valid_prediction.eval(), valid_labels))\n",
    "    \n",
    "  print(\"Test accuracy: %.1f%%\" % accuracy(test_prediction.eval(), test_labels))"
   ]
  },
  {
   "cell_type": "markdown",
   "metadata": {},
   "source": [
    "***Edwin Conclusion: Training with only 256 example inputs, the model overfit the training data by predicting training data perfectly (100%) but failed to generalize well (30% on validation and test set).***"
   ]
  },
  {
   "cell_type": "markdown",
   "metadata": {
    "colab_type": "text",
    "deletable": true,
    "editable": true,
    "id": "ww3SCBUdlkRc"
   },
   "source": [
    "---\n",
    "Problem 3\n",
    "---------\n",
    "Introduce Dropout on the hidden layer of the neural network. Remember: Dropout should only be introduced during training, not evaluation, otherwise your evaluation results would be stochastic as well. TensorFlow provides `nn.dropout()` for that, but you have to make sure it's only inserted during training.\n",
    "\n",
    "What happens to our extreme overfitting case?\n",
    "\n",
    "---"
   ]
  },
  {
   "cell_type": "code",
   "execution_count": 54,
   "metadata": {
    "collapsed": false
   },
   "outputs": [],
   "source": [
    "batch_size = 256\n",
    "\n",
    "graph = tf.Graph()\n",
    "with graph.as_default():\n",
    "\n",
    "  # Input data. For the training data, we use a placeholder that will be fed\n",
    "  # at run time with a training minibatch.\n",
    "  tf_train_dataset = tf.placeholder(tf.float32, shape=(batch_size, image_size * image_size), name='train_X')\n",
    "  tf_train_labels = tf.placeholder(tf.float32, shape=(batch_size, num_labels), name='train_y')\n",
    "\n",
    "  # No change for the rest of the code\n",
    "  tf_valid_dataset = tf.constant(valid_dataset, name='valid_X')\n",
    "  tf_test_dataset = tf.constant(test_dataset, name='valid_y')\n",
    "  \n",
    "  # Variables.\n",
    "  # Fully Connected Hidden Layer\n",
    "  hidden_nodes = 1024\n",
    "  weights_1 = tf.Variable(tf.truncated_normal([image_size * image_size, hidden_nodes]), name='weights_1')\n",
    "  biases_1 = tf.Variable(tf.zeros([hidden_nodes]), name='biases_1')\n",
    "    \n",
    "  # Fully Connected Output Layer\n",
    "  weights_2 = tf.Variable(tf.truncated_normal([hidden_nodes, num_labels]), name='weights_2')\n",
    "  biases_2 = tf.Variable(tf.zeros([num_labels]), name='biases_2')\n",
    "  \n",
    "  # Training computation.\n",
    "  # Logits of hidden layer\n",
    "  logits_1 = tf.matmul(tf_train_dataset, weights_1) + biases_1\n",
    "  # Apply Relu as activation\n",
    "  logits_1 = tf.nn.relu(logits_1)\n",
    "  logits_1 = tf.nn.dropout(logits_1, 0.5)\n",
    "    \n",
    "  # Logits of output layer\n",
    "  logits_2 = tf.matmul(logits_1, weights_2) + biases_2 \n",
    "    \n",
    "  # Beta for L2 LOST\n",
    "  beta = tf.constant(0.001)\n",
    "\n",
    "  # Loss + L2 LOST\n",
    "  loss = tf.reduce_mean(tf.nn.softmax_cross_entropy_with_logits(labels=tf_train_labels, logits=logits_2)) + \\\n",
    "            beta * tf.nn.l2_loss(tf.matmul(weights_1, weights_2))\n",
    "  \n",
    "  # Optimizer. \n",
    "  #optimizer = tf.train.GradientDescentOptimizer(0.5).minimize(loss)\n",
    "  optimizer = tf.train.AdamOptimizer(1e-3).minimize(loss)\n",
    "  \n",
    "  # Predictions for the training, validation, and test data.\n",
    "  train_prediction = tf.nn.softmax(logits_2)\n",
    "    \n",
    "  valid_logits_1 = tf.matmul(tf_valid_dataset, weights_1) + biases_1\n",
    "  valid_logits_1 = tf.nn.relu(valid_logits_1)\n",
    "  valid_prediction = tf.nn.softmax(tf.matmul(valid_logits_1, weights_2) + biases_2)\n",
    "    \n",
    "  test_logits_1 =  tf.matmul(tf_test_dataset, weights_1) + biases_1\n",
    "  test_logits_1 = tf.nn.relu(test_logits_1)\n",
    "  test_prediction = tf.nn.softmax(tf.matmul(test_logits_1, weights_2) + biases_2)"
   ]
  },
  {
   "cell_type": "code",
   "execution_count": 55,
   "metadata": {
    "collapsed": false
   },
   "outputs": [
    {
     "name": "stdout",
     "output_type": "stream",
     "text": [
      "Initialized\n",
      "Minibatch loss at step 0: 2885.086914\n",
      "Minibatch accuracy: 7.8%\n",
      "Validation accuracy: 8.2%\n",
      "Minibatch loss at step 1000: 2.818294\n",
      "Minibatch accuracy: 96.9%\n",
      "Validation accuracy: 73.0%\n",
      "Minibatch loss at step 2000: 0.419142\n",
      "Minibatch accuracy: 99.6%\n",
      "Validation accuracy: 73.7%\n",
      "Minibatch loss at step 3000: 0.098949\n",
      "Minibatch accuracy: 99.6%\n",
      "Validation accuracy: 74.2%\n",
      "Minibatch loss at step 4000: 0.030732\n",
      "Minibatch accuracy: 100.0%\n",
      "Validation accuracy: 74.7%\n",
      "Minibatch loss at step 5000: 0.503531\n",
      "Minibatch accuracy: 99.6%\n",
      "Validation accuracy: 74.5%\n",
      "Minibatch loss at step 6000: 0.130228\n",
      "Minibatch accuracy: 99.6%\n",
      "Validation accuracy: 74.4%\n",
      "Test accuracy: 81.9%\n"
     ]
    }
   ],
   "source": [
    "num_steps = 6001\n",
    "\n",
    "with tf.Session(graph=graph) as session:\n",
    "  tf.global_variables_initializer().run()\n",
    "\n",
    "  print(\"Initialized\")\n",
    "  for step in range(num_steps):\n",
    "    # Pick an offset within the training data, which has been randomized.\n",
    "    # Note: we could use better randomization across epochs.\n",
    "    offset = (step * batch_size) % (train_labels.shape[0] - batch_size)\n",
    "    \n",
    "    ### RESTRICT TO THE SAME OFFSET\n",
    "    offset = 0\n",
    "    \n",
    "    # Generate a minibatch.\n",
    "    batch_data = train_dataset[offset:(offset + batch_size), :]\n",
    "    batch_labels = train_labels[offset:(offset + batch_size), :]\n",
    "    \n",
    "    # Prepare a dictionary telling the session where to feed the minibatch.\n",
    "    # The key of the dictionary is the placeholder node of the graph to be fed,\n",
    "    # and the value is the numpy array to feed to it.\n",
    "    feed_dict = {tf_train_dataset : batch_data, tf_train_labels : batch_labels}\n",
    "    _, l, predictions = session.run([optimizer, loss, train_prediction], feed_dict=feed_dict)\n",
    "    \n",
    "    if (step % 1000 == 0):\n",
    "      print(\"Minibatch loss at step %d: %f\" % (step, l))\n",
    "      print(\"Minibatch accuracy: %.1f%%\" % accuracy(predictions, batch_labels))\n",
    "      print(\"Validation accuracy: %.1f%%\" % accuracy(valid_prediction.eval(), valid_labels))\n",
    "    \n",
    "  print(\"Test accuracy: %.1f%%\" % accuracy(test_prediction.eval(), test_labels))"
   ]
  },
  {
   "cell_type": "markdown",
   "metadata": {},
   "source": [
    "***Edwin Conclusion: Keeping everything unchanged and just adding dropout between two layers prevents the model from overfitting the training data (99%) and generalize well 74% and 82% on validation and test set even with 256 training examples***"
   ]
  },
  {
   "cell_type": "markdown",
   "metadata": {
    "colab_type": "text",
    "deletable": true,
    "editable": true,
    "id": "-b1hTz3VWZjw"
   },
   "source": [
    "---\n",
    "Problem 4\n",
    "---------\n",
    "\n",
    "Try to get the best performance you can using a multi-layer model! The best reported test accuracy using a deep network is [97.1%](http://yaroslavvb.blogspot.com/2011/09/notmnist-dataset.html?showComment=1391023266211#c8758720086795711595).\n",
    "\n",
    "One avenue you can explore is to add multiple layers.\n",
    "\n",
    "Another one is to use learning rate decay:\n",
    "\n",
    "    global_step = tf.Variable(0)  # count the number of steps taken.\n",
    "    learning_rate = tf.train.exponential_decay(0.5, global_step, ...)\n",
    "    optimizer = tf.train.GradientDescentOptimizer(learning_rate).minimize(loss, global_step=global_step)\n",
    " \n",
    " ---\n"
   ]
  },
  {
   "cell_type": "code",
   "execution_count": 56,
   "metadata": {
    "collapsed": true
   },
   "outputs": [],
   "source": [
    "batch_size = 256\n",
    "\n",
    "graph = tf.Graph()\n",
    "with graph.as_default():\n",
    "\n",
    "  # Input data. For the training data, we use a placeholder that will be fed\n",
    "  # at run time with a training minibatch.\n",
    "  tf_train_dataset = tf.placeholder(tf.float32, shape=(batch_size, image_size * image_size), name='train_X')\n",
    "  tf_train_labels = tf.placeholder(tf.float32, shape=(batch_size, num_labels), name='train_y')\n",
    "\n",
    "  tf_valid_dataset = tf.constant(valid_dataset, name='valid_X')\n",
    "  tf_test_dataset = tf.constant(test_dataset, name='valid_y')\n",
    "  \n",
    "  # Variables.\n",
    "  # Fully Connected Hidden Layer\n",
    "  hidden_nodes = 1024\n",
    "  weights_1 = tf.Variable(tf.truncated_normal([image_size * image_size, hidden_nodes]), name='weights_1')\n",
    "  biases_1 = tf.Variable(tf.zeros([hidden_nodes]), name='biases_1')\n",
    "    \n",
    "  # Fully Connected Output Layer\n",
    "  weights_2 = tf.Variable(tf.truncated_normal([hidden_nodes, num_labels]), name='weights_2')\n",
    "  biases_2 = tf.Variable(tf.zeros([num_labels]), name='biases_2')\n",
    "  \n",
    "  # Training computation.\n",
    "  # Logits of hidden layer\n",
    "  logits_1 = tf.matmul(tf_train_dataset, weights_1) + biases_1\n",
    "  logits_1 = tf.nn.relu(logits_1)\n",
    "  logits_1 = tf.nn.dropout(logits_1, 0.5)\n",
    "    \n",
    "  # Logits of output layer\n",
    "  logits_2 = tf.matmul(logits_1, weights_2) + biases_2 \n",
    "    \n",
    "  # Beta for L2 LOST\n",
    "  beta = tf.constant(0.001)\n",
    "\n",
    "  # Loss + L2 LOST\n",
    "  loss = tf.reduce_mean(tf.nn.softmax_cross_entropy_with_logits(labels=tf_train_labels, logits=logits_2)) + \\\n",
    "            beta * tf.nn.l2_loss(tf.matmul(weights_1, weights_2))\n",
    "  \n",
    "  # Optimizer. \n",
    "  optimizer = tf.train.AdamOptimizer(1e-3).minimize(loss)\n",
    "  \n",
    "  # Predictions for the training, validation, and test data.\n",
    "  train_prediction = tf.nn.softmax(logits_2)\n",
    "    \n",
    "  valid_logits_1 = tf.matmul(tf_valid_dataset, weights_1) + biases_1\n",
    "  valid_logits_1 = tf.nn.relu(valid_logits_1)\n",
    "  valid_prediction = tf.nn.softmax(tf.matmul(valid_logits_1, weights_2) + biases_2)\n",
    "    \n",
    "  test_logits_1 =  tf.matmul(tf_test_dataset, weights_1) + biases_1\n",
    "  test_logits_1 = tf.nn.relu(test_logits_1)\n",
    "  test_prediction = tf.nn.softmax(tf.matmul(test_logits_1, weights_2) + biases_2)"
   ]
  },
  {
   "cell_type": "code",
   "execution_count": 57,
   "metadata": {
    "collapsed": false
   },
   "outputs": [
    {
     "name": "stdout",
     "output_type": "stream",
     "text": [
      "Initialized\n",
      "Minibatch loss at step 0: 2778.368652\n",
      "Minibatch accuracy: 12.9%\n",
      "Validation accuracy: 10.3%\n",
      "Minibatch loss at step 1000: 35.407768\n",
      "Minibatch accuracy: 81.2%\n",
      "Validation accuracy: 82.2%\n",
      "Minibatch loss at step 2000: 34.766762\n",
      "Minibatch accuracy: 74.6%\n",
      "Validation accuracy: 83.8%\n",
      "Minibatch loss at step 3000: 36.679783\n",
      "Minibatch accuracy: 76.2%\n",
      "Validation accuracy: 84.5%\n",
      "Minibatch loss at step 4000: 17.731190\n",
      "Minibatch accuracy: 81.2%\n",
      "Validation accuracy: 84.8%\n",
      "Minibatch loss at step 5000: 19.289770\n",
      "Minibatch accuracy: 79.7%\n",
      "Validation accuracy: 85.2%\n",
      "Minibatch loss at step 6000: 15.267564\n",
      "Minibatch accuracy: 80.1%\n",
      "Validation accuracy: 85.4%\n",
      "Test accuracy: 92.0%\n"
     ]
    }
   ],
   "source": [
    "num_steps = 6001\n",
    "\n",
    "with tf.Session(graph=graph) as session:\n",
    "  tf.global_variables_initializer().run()\n",
    "\n",
    "  print(\"Initialized\")\n",
    "  for step in range(num_steps):\n",
    "    # Pick an offset within the training data, which has been randomized.\n",
    "    # Note: we could use better randomization across epochs.\n",
    "    offset = (step * batch_size) % (train_labels.shape[0] - batch_size)\n",
    "    \n",
    "    # Generate a minibatch.\n",
    "    batch_data = train_dataset[offset:(offset + batch_size), :]\n",
    "    batch_labels = train_labels[offset:(offset + batch_size), :]\n",
    "    \n",
    "    # Prepare a dictionary telling the session where to feed the minibatch.\n",
    "    # The key of the dictionary is the placeholder node of the graph to be fed,\n",
    "    # and the value is the numpy array to feed to it.\n",
    "    feed_dict = {tf_train_dataset : batch_data, tf_train_labels : batch_labels}\n",
    "    _, l, predictions = session.run([optimizer, loss, train_prediction], feed_dict=feed_dict)\n",
    "    \n",
    "    if (step % 1000 == 0):\n",
    "      print(\"Minibatch loss at step %d: %f\" % (step, l))\n",
    "      print(\"Minibatch accuracy: %.1f%%\" % accuracy(predictions, batch_labels))\n",
    "      print(\"Validation accuracy: %.1f%%\" % accuracy(valid_prediction.eval(), valid_labels))\n",
    "    \n",
    "  print(\"Test accuracy: %.1f%%\" % accuracy(test_prediction.eval(), test_labels))"
   ]
  },
  {
   "cell_type": "markdown",
   "metadata": {},
   "source": [
    "### Above as the benchmark of further improvement###\n",
    "***Model:***\n",
    "NN with one hidden layer - dimentions: input 784 - hidden layer 1024 - output layer 10\n",
    "\n",
    "***Regularization:***\n",
    "L2 Loss (beta=0.001) and dropout (prob = 0.5)\n",
    "\n",
    "***Minimizer***\n",
    "AdamOptimizer - learning rate = 0.001\n"
   ]
  },
  {
   "cell_type": "code",
   "execution_count": 91,
   "metadata": {
    "collapsed": false
   },
   "outputs": [],
   "source": [
    "batch_size = 256\n",
    "\n",
    "graph = tf.Graph()\n",
    "with graph.as_default():\n",
    "\n",
    "  # Input data. For the training data, we use a placeholder that will be fed\n",
    "  # at run time with a training minibatch.\n",
    "  tf_train_dataset = tf.placeholder(tf.float32, shape=(batch_size, image_size * image_size), name='train_X')\n",
    "  tf_train_labels = tf.placeholder(tf.float32, shape=(batch_size, num_labels), name='train_y')\n",
    "\n",
    "  tf_valid_dataset = tf.constant(valid_dataset, name='valid_X')\n",
    "  tf_test_dataset = tf.constant(test_dataset, name='valid_y')\n",
    "  \n",
    "  # Variables.\n",
    "  # Fully Connected Hidden Layer\n",
    "  hidden_nodes = 1024\n",
    "  weights_1 = tf.Variable(tf.truncated_normal([image_size * image_size, hidden_nodes]), name='weights_1')\n",
    "  biases_1 = tf.Variable(tf.zeros([hidden_nodes]), name='biases_1')\n",
    "    \n",
    "  # Fully Connected Output Layer\n",
    "  weights_2 = tf.Variable(tf.truncated_normal([hidden_nodes, num_labels]), name='weights_2')\n",
    "  biases_2 = tf.Variable(tf.zeros([num_labels]), name='biases_2')\n",
    "  \n",
    "  # Training computation.\n",
    "  # Logits of hidden layer\n",
    "  logits_1 = tf.matmul(tf_train_dataset, weights_1) + biases_1\n",
    "  logits_1 = tf.nn.relu(logits_1)\n",
    "  logits_1 = tf.nn.dropout(logits_1, 0.5)\n",
    "    \n",
    "  # Logits of output layer\n",
    "  logits_2 = tf.matmul(logits_1, weights_2) + biases_2 \n",
    "    \n",
    "  # Beta for L2 LOST\n",
    "  beta = tf.constant(0.001)\n",
    "\n",
    "  # Loss + L2 LOST\n",
    "  loss = tf.reduce_mean(tf.nn.softmax_cross_entropy_with_logits(labels=tf_train_labels, logits=logits_2)) + \\\n",
    "            beta * tf.nn.l2_loss(tf.matmul(weights_1, weights_2))\n",
    "  \n",
    "  # Optimizer. \n",
    "  global_step = tf.Variable(0)  # count the number of steps taken.\n",
    "  learning_rate = tf.train.exponential_decay(1e-2, global_step, 100, 0.99, staircase=False) \n",
    "  optimizer = tf.train.AdamOptimizer(learning_rate).minimize(loss, global_step=global_step)\n",
    "\n",
    "  #optimizer = tf.train.AdamOptimizer(1e-3).minimize(loss)\n",
    "  \n",
    "  # Predictions for the training, validation, and test data.\n",
    "  train_prediction = tf.nn.softmax(logits_2)\n",
    "    \n",
    "  valid_logits_1 = tf.matmul(tf_valid_dataset, weights_1) + biases_1\n",
    "  valid_logits_1 = tf.nn.relu(valid_logits_1)\n",
    "  valid_prediction = tf.nn.softmax(tf.matmul(valid_logits_1, weights_2) + biases_2)\n",
    "    \n",
    "  test_logits_1 =  tf.matmul(tf_test_dataset, weights_1) + biases_1\n",
    "  test_logits_1 = tf.nn.relu(test_logits_1)\n",
    "  test_prediction = tf.nn.softmax(tf.matmul(test_logits_1, weights_2) + biases_2)"
   ]
  },
  {
   "cell_type": "code",
   "execution_count": 92,
   "metadata": {
    "collapsed": false
   },
   "outputs": [
    {
     "name": "stdout",
     "output_type": "stream",
     "text": [
      "Initialized\n",
      "Minibatch loss at step 0: 2706.835938\n",
      "Minibatch accuracy: 11.7%\n",
      "Validation accuracy: 25.3%\n",
      "Minibatch loss at step 1000: 10.510406\n",
      "Minibatch accuracy: 82.8%\n",
      "Validation accuracy: 84.7%\n",
      "Minibatch loss at step 2000: 4.955828\n",
      "Minibatch accuracy: 84.0%\n",
      "Validation accuracy: 85.3%\n",
      "Minibatch loss at step 3000: 1.481091\n",
      "Minibatch accuracy: 82.8%\n",
      "Validation accuracy: 85.7%\n",
      "Minibatch loss at step 4000: 0.994143\n",
      "Minibatch accuracy: 82.0%\n",
      "Validation accuracy: 86.1%\n",
      "Minibatch loss at step 5000: 0.919051\n",
      "Minibatch accuracy: 83.6%\n",
      "Validation accuracy: 86.1%\n",
      "Minibatch loss at step 6000: 0.826358\n",
      "Minibatch accuracy: 84.0%\n",
      "Validation accuracy: 86.4%\n",
      "Test accuracy: 93.0%\n"
     ]
    }
   ],
   "source": [
    "num_steps = 6001\n",
    "\n",
    "with tf.Session(graph=graph) as session:\n",
    "  tf.global_variables_initializer().run()\n",
    "\n",
    "  print(\"Initialized\")\n",
    "  for step in range(num_steps):\n",
    "    # Pick an offset within the training data, which has been randomized.\n",
    "    # Note: we could use better randomization across epochs.\n",
    "    offset = (step * batch_size) % (train_labels.shape[0] - batch_size)\n",
    "    \n",
    "    # Generate a minibatch.\n",
    "    batch_data = train_dataset[offset:(offset + batch_size), :]\n",
    "    batch_labels = train_labels[offset:(offset + batch_size), :]\n",
    "    \n",
    "    # Prepare a dictionary telling the session where to feed the minibatch.\n",
    "    # The key of the dictionary is the placeholder node of the graph to be fed,\n",
    "    # and the value is the numpy array to feed to it.\n",
    "    feed_dict = {tf_train_dataset : batch_data, tf_train_labels : batch_labels}\n",
    "    _, l, predictions = session.run([optimizer, loss, train_prediction], feed_dict=feed_dict)\n",
    "    \n",
    "    if (step % 1000 == 0):\n",
    "      print(\"Minibatch loss at step %d: %f\" % (step, l))\n",
    "      print(\"Minibatch accuracy: %.1f%%\" % accuracy(predictions, batch_labels))\n",
    "      print(\"Validation accuracy: %.1f%%\" % accuracy(valid_prediction.eval(), valid_labels))\n",
    "    \n",
    "  print(\"Test accuracy: %.1f%%\" % accuracy(test_prediction.eval(), test_labels))"
   ]
  },
  {
   "cell_type": "markdown",
   "metadata": {},
   "source": [
    "***Edwin Conclusion: Slight increase with learning rate decay***"
   ]
  },
  {
   "cell_type": "code",
   "execution_count": 7,
   "metadata": {
    "collapsed": false
   },
   "outputs": [
    {
     "ename": "SyntaxError",
     "evalue": "unexpected EOF while parsing (<ipython-input-7-a083b5322b0b>, line 67)",
     "output_type": "error",
     "traceback": [
      "\u001b[0;36m  File \u001b[0;32m\"<ipython-input-7-a083b5322b0b>\"\u001b[0;36m, line \u001b[0;32m67\u001b[0m\n\u001b[0;31m    test_prediction = tf.nn.softmax(tf.matmul(test_logits_2, weights_last) + biases_last\u001b[0m\n\u001b[0m                                                                                        ^\u001b[0m\n\u001b[0;31mSyntaxError\u001b[0m\u001b[0;31m:\u001b[0m unexpected EOF while parsing\n"
     ]
    }
   ],
   "source": [
    "batch_size = 256\n",
    "\n",
    "graph = tf.Graph()\n",
    "with graph.as_default():\n",
    "\n",
    "  # Input data. For the training data, we use a placeholder that will be fed\n",
    "  # at run time with a training minibatch.\n",
    "  tf_train_dataset = tf.placeholder(tf.float32, shape=(batch_size, image_size * image_size), name='train_X')\n",
    "  tf_train_labels = tf.placeholder(tf.float32, shape=(batch_size, num_labels), name='train_y')\n",
    "\n",
    "  tf_valid_dataset = tf.constant(valid_dataset, name='valid_X')\n",
    "  tf_test_dataset = tf.constant(test_dataset, name='valid_y')\n",
    "  \n",
    "  # Variables.\n",
    "  # Fully Connected Hidden Layer\n",
    "  hidden_nodes = 1024\n",
    "  weights_1 = tf.Variable(tf.truncated_normal([image_size * image_size, hidden_nodes]), name='weights_1')\n",
    "  biases_1 = tf.Variable(tf.zeros([hidden_nodes]), name='biases_1')\n",
    "    \n",
    "  # Hiddent Layer2\n",
    "  hidden_nodes_2 = 512\n",
    "  weights_2 = tf.Variable(tf.truncated_normal([hidden_nodes, hidden_nodes_2]), name='weights_2')\n",
    "  biases_2 = tf.Variable(tf.zeros([hidden_nodes_2]), name='biases_2')\n",
    "    \n",
    "  # Fully Connected Output Layer\n",
    "  weights_last = tf.Variable(tf.truncated_normal([hidden_nodes_2, num_labels]), name='weights_last')\n",
    "  biases_last = tf.Variable(tf.zeros([num_labels]), name='biases_last')\n",
    "  \n",
    "  # Training computation.\n",
    "  # Logits of hidden layer\n",
    "  logits_1 = tf.matmul(tf_train_dataset, weights_1) + biases_1\n",
    "  logits_1 = tf.nn.relu(logits_1)\n",
    "  logits_1 = tf.nn.dropout(logits_1, 0.5)\n",
    "\n",
    "  # Logits for hidden layer2\n",
    "  logits_2 = tf.matmul(logits_1, weights_2) + biases_2\n",
    "  logits_2 = tf.nn.relu(logits_2)\n",
    "  logits_2 = tf.nn.dropout(logits_2, 0.5)\n",
    "    \n",
    "  # Logits of output layer\n",
    "  logits_last = tf.matmul(logits_2, weights_last) + biases_last \n",
    "    \n",
    "  # Beta for L2 LOST\n",
    "  beta = tf.constant(0.001)\n",
    "\n",
    "  # Loss + L2 LOST\n",
    "  loss = tf.reduce_mean(tf.nn.softmax_cross_entropy_with_logits(labels=tf_train_labels, logits=logits_last)) + \\\n",
    "            beta * tf.nn.l2_loss(tf.matmul(tf.matmul(weights_1, weights_2), weights_last))\n",
    "  \n",
    "  # Optimizer1\n",
    " # global_step = tf.Variable(0)  # count the number of steps taken.\n",
    " # learning_rate = tf.train.exponential_decay(1e-2, global_step, 100, 0.99, staircase=False) \n",
    " # optimizer = tf.train.AdamOptimizer(learning_rate).minimize(loss, global_step=global_step)\n",
    "\n",
    "  optimizer = tf.train.AdamOptimizer(1e-3).minimize(loss)\n",
    "  \n",
    "  # Predictions for the training, validation, and test data.\n",
    "  train_prediction = tf.nn.softmax(logits_last)\n",
    "    \n",
    "  valid_logits_1 = tf.matmul(tf_valid_dataset, weights_1) + biases_1\n",
    "  valid_logits_1 = tf.nn.relu(valid_logits_1)\n",
    "  valid_logits_2 = tf.matmul(valid_logits_1, weights_2) + biases_2\n",
    "  valid_prediction = tf.nn.softmax(tf.matmul(valid_logits_2, weights_last) + biases_last)\n",
    "    \n",
    "  test_logits_1 =  tf.matmul(tf_test_dataset, weights_1) + biases_1\n",
    "  test_logits_1 = tf.nn.relu(test_logits_1)\n",
    "  test_logits_2 = tf.matmul(test_logits_1, weights_2) + biases_2\n",
    "  test_prediction = tf.nn.softmax(tf.matmul(test_logits_2, weights_last) + biases_last)"
   ]
  },
  {
   "cell_type": "code",
   "execution_count": 8,
   "metadata": {
    "collapsed": false
   },
   "outputs": [
    {
     "ename": "NameError",
     "evalue": "name 'graph' is not defined",
     "output_type": "error",
     "traceback": [
      "\u001b[0;31m---------------------------------------------------------------------------\u001b[0m",
      "\u001b[0;31mNameError\u001b[0m                                 Traceback (most recent call last)",
      "\u001b[0;32m<ipython-input-8-bc35c87dd555>\u001b[0m in \u001b[0;36m<module>\u001b[0;34m()\u001b[0m\n\u001b[1;32m      1\u001b[0m \u001b[0mnum_steps\u001b[0m \u001b[0;34m=\u001b[0m \u001b[0;36m601\u001b[0m\u001b[0;34m\u001b[0m\u001b[0m\n\u001b[1;32m      2\u001b[0m \u001b[0;34m\u001b[0m\u001b[0m\n\u001b[0;32m----> 3\u001b[0;31m \u001b[0;32mwith\u001b[0m \u001b[0mtf\u001b[0m\u001b[0;34m.\u001b[0m\u001b[0mSession\u001b[0m\u001b[0;34m(\u001b[0m\u001b[0mgraph\u001b[0m\u001b[0;34m=\u001b[0m\u001b[0mgraph\u001b[0m\u001b[0;34m)\u001b[0m \u001b[0;32mas\u001b[0m \u001b[0msession\u001b[0m\u001b[0;34m:\u001b[0m\u001b[0;34m\u001b[0m\u001b[0m\n\u001b[0m\u001b[1;32m      4\u001b[0m   \u001b[0mtf\u001b[0m\u001b[0;34m.\u001b[0m\u001b[0mglobal_variables_initializer\u001b[0m\u001b[0;34m(\u001b[0m\u001b[0;34m)\u001b[0m\u001b[0;34m.\u001b[0m\u001b[0mrun\u001b[0m\u001b[0;34m(\u001b[0m\u001b[0;34m)\u001b[0m\u001b[0;34m\u001b[0m\u001b[0m\n\u001b[1;32m      5\u001b[0m \u001b[0;34m\u001b[0m\u001b[0m\n",
      "\u001b[0;31mNameError\u001b[0m: name 'graph' is not defined"
     ]
    }
   ],
   "source": [
    "num_steps = 601\n",
    "\n",
    "with tf.Session(graph=graph) as session:\n",
    "  tf.global_variables_initializer().run()\n",
    "\n",
    "  print(\"Initialized\")\n",
    "  for step in range(num_steps):\n",
    "    # Pick an offset within the training data, which has been randomized.\n",
    "    # Note: we could use better randomization across epochs.\n",
    "    offset = (step * batch_size) % (train_labels.shape[0] - batch_size)\n",
    "    \n",
    "    # Generate a minibatch.\n",
    "    batch_data = train_dataset[offset:(offset + batch_size), :]\n",
    "    batch_labels = train_labels[offset:(offset + batch_size), :]\n",
    "    \n",
    "    # Prepare a dictionary telling the session where to feed the minibatch.\n",
    "    # The key of the dictionary is the placeholder node of the graph to be fed,\n",
    "    # and the value is the numpy array to feed to it.\n",
    "    feed_dict = {tf_train_dataset : batch_data, tf_train_labels : batch_labels}\n",
    "    _, l, predictions = session.run([optimizer, loss, train_prediction], feed_dict=feed_dict)\n",
    "    \n",
    "    if (step % 100 == 0):\n",
    "      print(\"Minibatch loss at step %d: %f\" % (step, l))\n",
    "      print(\"Minibatch accuracy: %.1f%%\" % accuracy(predictions, batch_labels))\n",
    "      print(\"Validation accuracy: %.1f%%\" % accuracy(valid_prediction.eval(), valid_labels))\n",
    "    \n",
    "  print(\"Test accuracy: %.1f%%\" % accuracy(test_prediction.eval(), test_labels))"
   ]
  },
  {
   "cell_type": "markdown",
   "metadata": {},
   "source": [
    "**Trying to add another hidden layer, not sure why it breaks the whole network**"
   ]
  },
  {
   "cell_type": "code",
   "execution_count": null,
   "metadata": {
    "collapsed": true
   },
   "outputs": [],
   "source": []
  }
 ],
 "metadata": {
  "colab": {
   "default_view": {},
   "name": "3_regularization.ipynb",
   "provenance": [],
   "version": "0.3.2",
   "views": {}
  },
  "kernelspec": {
   "display_name": "Python 3",
   "language": "python",
   "name": "python3"
  },
  "language_info": {
   "codemirror_mode": {
    "name": "ipython",
    "version": 3
   },
   "file_extension": ".py",
   "mimetype": "text/x-python",
   "name": "python",
   "nbconvert_exporter": "python",
   "pygments_lexer": "ipython3",
   "version": "3.6.0"
  }
 },
 "nbformat": 4,
 "nbformat_minor": 0
}
