{
 "cells": [
  {
   "cell_type": "code",
   "execution_count": 1,
   "metadata": {
    "collapsed": false
   },
   "outputs": [],
   "source": [
    "import tensorflow as tf\n",
    "import numpy as np"
   ]
  },
  {
   "cell_type": "code",
   "execution_count": 26,
   "metadata": {
    "collapsed": true
   },
   "outputs": [],
   "source": [
    "def weight_variable(shape):\n",
    "    initial = tf.truncated_normal(shape, stddev=0.1)\n",
    "    #initial = tf.ones(shape)\n",
    "    return tf.Variable(initial)\n",
    "\n",
    "def bias_variable(shape):\n",
    "    initial = tf.constant(0.1, shape=shape)\n",
    "    return tf.Variable(initial)\n",
    "\n",
    "def conv2d(x, W):\n",
    "    return tf.nn.conv2d(x, W, strides=[1, 1, 1, 1], padding='SAME')\n",
    "\n",
    "def max_pool_2x2(x):\n",
    "    return tf.nn.max_pool(x, ksize=[1, 2, 2, 1], strides=[1, 2, 2, 1], padding='SAME')"
   ]
  },
  {
   "cell_type": "code",
   "execution_count": 27,
   "metadata": {
    "collapsed": false
   },
   "outputs": [],
   "source": [
    "x_image = tf.ones(shape=[1,4,4,1])\n",
    "W_conv1 = weight_variable([2, 2, 1, 1])\n",
    "b_conv1 = bias_variable([1])\n",
    "\n",
    "h_conv1 = conv2d(x_image, W_conv1) + b_conv1\n",
    "h_conv1_relu = tf.nn.relu(h_conv1)\n",
    "h_conv1_pool = max_pool_2x2(h_conv1_relu)\n",
    "\n",
    "sess = tf.InteractiveSession()\n",
    "tf.global_variables_initializer().run()\n",
    "h_conv1_out = sess.run(h_conv1_pool)\n"
   ]
  },
  {
   "cell_type": "code",
   "execution_count": 28,
   "metadata": {
    "collapsed": false
   },
   "outputs": [
    {
     "name": "stdout",
     "output_type": "stream",
     "text": [
      "(1, 4, 4, 1)\n",
      "[[[[ 0.22609866]\n",
      "   [ 0.22609866]\n",
      "   [ 0.22609866]\n",
      "   [ 0.16301668]]\n",
      "\n",
      "  [[ 0.22609866]\n",
      "   [ 0.22609866]\n",
      "   [ 0.22609866]\n",
      "   [ 0.16301668]]\n",
      "\n",
      "  [[ 0.22609866]\n",
      "   [ 0.22609866]\n",
      "   [ 0.22609866]\n",
      "   [ 0.16301668]]\n",
      "\n",
      "  [[ 0.26623237]\n",
      "   [ 0.26623237]\n",
      "   [ 0.26623237]\n",
      "   [ 0.17934561]]]]\n"
     ]
    }
   ],
   "source": [
    "print(h_conv1.shape)\n",
    "print(h_conv1.eval())"
   ]
  },
  {
   "cell_type": "code",
   "execution_count": 29,
   "metadata": {
    "collapsed": false
   },
   "outputs": [
    {
     "name": "stdout",
     "output_type": "stream",
     "text": [
      "[[[[ 0.07934561]]\n",
      "\n",
      "  [[ 0.08688677]]]\n",
      "\n",
      "\n",
      " [[[-0.01632893]]\n",
      "\n",
      "  [[-0.02380479]]]]\n",
      "0.126099\n"
     ]
    }
   ],
   "source": [
    "print(W_conv1.eval())\n",
    "print(W_conv1.eval().sum())"
   ]
  },
  {
   "cell_type": "code",
   "execution_count": 30,
   "metadata": {
    "collapsed": false
   },
   "outputs": [
    {
     "name": "stdout",
     "output_type": "stream",
     "text": [
      "[[[[ 0.22609866]\n",
      "   [ 0.22609866]\n",
      "   [ 0.22609866]\n",
      "   [ 0.16301668]]\n",
      "\n",
      "  [[ 0.22609866]\n",
      "   [ 0.22609866]\n",
      "   [ 0.22609866]\n",
      "   [ 0.16301668]]\n",
      "\n",
      "  [[ 0.22609866]\n",
      "   [ 0.22609866]\n",
      "   [ 0.22609866]\n",
      "   [ 0.16301668]]\n",
      "\n",
      "  [[ 0.26623237]\n",
      "   [ 0.26623237]\n",
      "   [ 0.26623237]\n",
      "   [ 0.17934561]]]]\n"
     ]
    }
   ],
   "source": [
    "print(h_conv1_relu.eval())"
   ]
  },
  {
   "cell_type": "code",
   "execution_count": 7,
   "metadata": {
    "collapsed": false
   },
   "outputs": [
    {
     "name": "stdout",
     "output_type": "stream",
     "text": [
      "[[[[ 0.        ]\n",
      "   [ 0.06074855]]\n",
      "\n",
      "  [[ 0.        ]\n",
      "   [ 0.06074855]]]]\n"
     ]
    }
   ],
   "source": [
    "print(h_conv1_pool.eval())"
   ]
  },
  {
   "cell_type": "code",
   "execution_count": null,
   "metadata": {
    "collapsed": true
   },
   "outputs": [],
   "source": []
  }
 ],
 "metadata": {
  "kernelspec": {
   "display_name": "Python 3",
   "language": "python",
   "name": "python3"
  },
  "language_info": {
   "codemirror_mode": {
    "name": "ipython",
    "version": 3
   },
   "file_extension": ".py",
   "mimetype": "text/x-python",
   "name": "python",
   "nbconvert_exporter": "python",
   "pygments_lexer": "ipython3",
   "version": "3.6.0"
  }
 },
 "nbformat": 4,
 "nbformat_minor": 2
}
